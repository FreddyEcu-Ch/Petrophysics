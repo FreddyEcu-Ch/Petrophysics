{
 "cells": [
  {
   "cell_type": "markdown",
   "id": "510f4f80-112d-4e0b-a22f-e106627e38c5",
   "metadata": {
    "pycharm": {
     "name": "#%% md\n"
    }
   },
   "source": [
    "# Well Logs Visualization\n",
    "\n",
    "This notebook **visualizes petrophysical logs** from wells belonging to the Volve field in Norway, whose data, it should be noted, is free."
   ]
  },
  {
   "cell_type": "markdown",
   "id": "ad12465f-2c4d-4939-9a5c-ea5de6758f53",
   "metadata": {
    "pycharm": {
     "name": "#%% md\n"
    }
   },
   "source": [
    "## Contents\n",
    "\n",
    "- 1. Import data\n",
    "- 2. Data exploration\n",
    "- 3. Plot well logs\n",
    "    - 3.1 Plots with Welly\n",
    "    - 3.2 Plots with Welly and Matplotlib\n",
    "    - 3.3 Plots with Matplotlib"
   ]
  },
  {
   "cell_type": "markdown",
   "id": "22a7eb3a-fcc5-4188-9fcd-77c85aee7d3f",
   "metadata": {
    "pycharm": {
     "name": "#%% md\n"
    }
   },
   "source": [
    "# Well logging\n",
    "\n",
    "**Well logging** is the practice of making a detailed record (a well log) of the geologic formations penetrated by a borehole. The log may be based either on visual inspection of samples brought to the surface (geological logs) or on physical measurements made by instruments lowered into the hole (geophysical logs). Some types of geophysical well logs can be done during any phase of a well's history: drilling, completing, producing, or abandoning.\n",
    "\n",
    "![Picture title](resources/well_logs.png)\\\n",
    "*Figure 1: Well Logs of various wells*"
   ]
  },
  {
   "cell_type": "markdown",
   "id": "ebacad37-9cad-4e85-bc59-96594b3286a0",
   "metadata": {
    "pycharm": {
     "name": "#%% md\n"
    }
   },
   "source": [
    "# Import Python libraries\n",
    "\n",
    "In this notebook, there are 3 new libraries:\n",
    "\n",
    "- welly -> Library developed by he Nova Scotia Department of Energy of Canadá, used to read and process data from .*LAS formats* (https://agilescientific.com/blog/2016/11/8/welly-to-the-wescue)\n",
    "- lasio -> Python package to read and write Log ASCII Standard (LAS) files, used for borehole data such as geophysical, geological, or petrophysical logs. It’s compatible with versions 1.2 and 2.0 of the LAS file specification, published by the Canadian Well Logging Society. (https://lasio.readthedocs.io/en/latest/)\n",
    "- missingno -> Library used to visualize missing data (https://github.com/ResidentMario/missingno)."
   ]
  },
  {
   "cell_type": "code",
   "execution_count": 1,
   "id": "83ed4c62-1bdb-45fd-a4fb-a2daf437b20c",
   "metadata": {
    "pycharm": {
     "name": "#%%\n"
    }
   },
   "outputs": [],
   "source": [
    "import numpy as np\n",
    "import pandas as pd\n",
    "import matplotlib.pyplot as plt\n",
    "import lasio\n",
    "import welly\n",
    "#import missingno as msno\n",
    "from pathlib import Path\n",
    "import warnings\n",
    "warnings.filterwarnings('ignore')"
   ]
  },
  {
   "cell_type": "markdown",
   "id": "bbfa4928-bde1-4751-b0d3-af12493f3c4b",
   "metadata": {
    "pycharm": {
     "name": "#%% md\n"
    }
   },
   "source": [
    "# 1) Import Data\n",
    "\n",
    "Next, the files in LAS format of the **F-1 B well of the Volve field** are imported. It should be noted, that the 2 imported files are: An input log (raw data) and an output log (processed data); The steps performed are as follows:\n",
    "\n",
    "1. First, the path of both files is written.\n",
    "2. Then, the files are imported using the **welly** library and its methods **Well and from_las**."
   ]
  },
  {
   "cell_type": "code",
   "execution_count": 2,
   "id": "1a076809-5ec1-4f31-98a1-b99f476af594",
   "metadata": {
    "pycharm": {
     "name": "#%%\n"
    }
   },
   "outputs": [],
   "source": [
    "file_input = Path(\"Data/VOLVE-PETROPHYSICAL_INTERPRETATION/15_9-F-1 B/WLC_PETRO_COMPUTED_INPUT_1.LAS\")\n",
    "file_output = Path(\"Data/VOLVE-PETROPHYSICAL_INTERPRETATION/15_9-F-1 B/WLC_PETRO_COMPUTED_OUTPUT_1.LAS\")"
   ]
  },
  {
   "cell_type": "code",
   "execution_count": 3,
   "id": "2c3ca0aa-577e-4133-a021-b2b42ac4ecaa",
   "metadata": {
    "pycharm": {
     "name": "#%%\n"
    }
   },
   "outputs": [],
   "source": [
    "log_input = welly.Well.from_las(file_input)\n",
    "log_output = welly.Well.from_las(file_output)"
   ]
  },
  {
   "cell_type": "markdown",
   "id": "79b5a8dd-a57b-4a7b-9a1b-d1e748d5287e",
   "metadata": {
    "pycharm": {
     "name": "#%% md\n"
    }
   },
   "source": [
    "# 3) Data exploration\n",
    "\n",
    "In this section, the following steps are performed:\n",
    "\n",
    "1. Exploration of **metadata** from both logs (headers, curves, well log information).\n",
    "2. Creation of **dataframes**.\n",
    "3. Exploration of **null data** of the logs."
   ]
  },
  {
   "cell_type": "markdown",
   "id": "7d465c8f-9c8e-42cb-904f-0eede6a2eaa0",
   "metadata": {
    "pycharm": {
     "name": "#%% md\n"
    }
   },
   "source": [
    "## 3.1) Explore Metadata\n",
    "\n",
    "Relevant information from the well logs, highlighting the following:\n",
    "\n",
    "- Country in which the well is located\n",
    "- Coordinates\n",
    "- Name of the well\n",
    "- Recorded curves"
   ]
  },
  {
   "cell_type": "code",
   "execution_count": 4,
   "id": "b8de3a49-726a-4594-9d66-92bc4a67e314",
   "metadata": {
    "pycharm": {
     "name": "#%%\n"
    }
   },
   "outputs": [
    {
     "data": {
      "text/html": [
       "<table><tr><th style=\"text-align:center;\" colspan=\"2\">15/9-F-1 B<br><small></small></th></tr><tr><td><strong>crs</strong></td><td>CRS({})</td></tr><tr><td><strong>location</strong></td><td>Maersk Inspirer</td></tr><tr><td><strong>country</strong></td><td></td></tr><tr><td><strong>province</strong></td><td></td></tr><tr><td><strong>county</strong></td><td></td></tr><tr><td><strong>latitude</strong></td><td>058 26' 29.907\" N    DMS</td></tr><tr><td><strong>longitude</strong></td><td>001 53' 14.708\" E    DMS</td></tr><tr><td><strong>api</strong></td><td></td></tr><tr><td><strong>td</strong></td><td>None</td></tr><tr><td><strong>data</strong></td><td>ABDCQF01, ABDCQF02, ABDCQF03, ABDCQF04, BS, CALI, DRHO, DT, DTS, GR, NBGRCFM, NPHI, PEF, RACEHM, RACELM, RD, RHOB, RM, ROP, RPCEHM, RPCELM, RT</td></tr></table>"
      ],
      "text/plain": [
       "Well(uwi: '', name: '15/9-F-1 B', 22 curves: ['ABDCQF01', 'ABDCQF02', 'ABDCQF03', 'ABDCQF04', 'BS', 'CALI', 'DRHO', 'DT', 'DTS', 'GR', 'NBGRCFM', 'NPHI', 'PEF', 'RACEHM', 'RACELM', 'RD', 'RHOB', 'RM', 'ROP', 'RPCEHM', 'RPCELM', 'RT'])"
      ]
     },
     "execution_count": 4,
     "metadata": {},
     "output_type": "execute_result"
    }
   ],
   "source": [
    "log_input"
   ]
  },
  {
   "cell_type": "code",
   "execution_count": 5,
   "id": "8d4318c5-5327-4bbf-8330-101b7bf9ff48",
   "metadata": {
    "pycharm": {
     "name": "#%%\n"
    }
   },
   "outputs": [
    {
     "data": {
      "text/html": [
       "<table><tr><th style=\"text-align:center;\" colspan=\"2\">15/9-F-1 B<br><small></small></th></tr><tr><td><strong>crs</strong></td><td>CRS({})</td></tr><tr><td><strong>location</strong></td><td>Maersk Inspirer</td></tr><tr><td><strong>country</strong></td><td></td></tr><tr><td><strong>province</strong></td><td></td></tr><tr><td><strong>county</strong></td><td></td></tr><tr><td><strong>latitude</strong></td><td>058 26' 29.907\" N    DMS</td></tr><tr><td><strong>longitude</strong></td><td>001 53' 14.708\" E    DMS</td></tr><tr><td><strong>api</strong></td><td></td></tr><tr><td><strong>td</strong></td><td>None</td></tr><tr><td><strong>data</strong></td><td>BVW, CARB_FLAG, COAL_FLAG, KLOGH, PHIF, SAND_FLAG, SW, VCARB, VSH</td></tr></table>"
      ],
      "text/plain": [
       "Well(uwi: '', name: '15/9-F-1 B', 9 curves: ['BVW', 'CARB_FLAG', 'COAL_FLAG', 'KLOGH', 'PHIF', 'SAND_FLAG', 'SW', 'VCARB', 'VSH'])"
      ]
     },
     "execution_count": 5,
     "metadata": {},
     "output_type": "execute_result"
    }
   ],
   "source": [
    "log_output"
   ]
  },
  {
   "cell_type": "markdown",
   "id": "6e53a69d-d095-43f2-8079-fab95f646e14",
   "metadata": {
    "pycharm": {
     "name": "#%% md\n"
    }
   },
   "source": [
    "On the other hand, using the *data* attribute of the **welly** library, it is possible to obtain a dictionary of the petrophysical** records contained in the LAS file, where the values of each key of the dictionary are the data of each curve."
   ]
  },
  {
   "cell_type": "code",
   "execution_count": 6,
   "id": "2e331176-9e34-4fd3-96cd-cf97a021b439",
   "metadata": {
    "pycharm": {
     "name": "#%%\n"
    }
   },
   "outputs": [
    {
     "data": {
      "text/plain": [
       "{'ABDCQF01': Curve(mnemonic=ABDCQF01, units=g/cm3, start=145.9000, stop=3464.9000, step=0.1000, count=[3226]),\n",
       " 'ABDCQF02': Curve(mnemonic=ABDCQF02, units=g/cm3, start=145.9000, stop=3464.9000, step=0.1000, count=[3226]),\n",
       " 'ABDCQF03': Curve(mnemonic=ABDCQF03, units=g/cm3, start=145.9000, stop=3464.9000, step=0.1000, count=[3226]),\n",
       " 'ABDCQF04': Curve(mnemonic=ABDCQF04, units=g/cm3, start=145.9000, stop=3464.9000, step=0.1000, count=[3226]),\n",
       " 'BS': Curve(mnemonic=BS, units=inches, start=145.9000, stop=3464.9000, step=0.1000, count=[33191]),\n",
       " 'CALI': Curve(mnemonic=CALI, units=inches, start=145.9000, stop=3464.9000, step=0.1000, count=[3519]),\n",
       " 'DRHO': Curve(mnemonic=DRHO, units=g/cm3, start=145.9000, stop=3464.9000, step=0.1000, count=[3526]),\n",
       " 'DT': Curve(mnemonic=DT, units=us/ft, start=145.9000, stop=3464.9000, step=0.1000, count=[4262]),\n",
       " 'DTS': Curve(mnemonic=DTS, units=us/ft, start=145.9000, stop=3464.9000, step=0.1000, count=[3809]),\n",
       " 'GR': Curve(mnemonic=GR, units=API, start=145.9000, stop=3464.9000, step=0.1000, count=[32498]),\n",
       " 'NBGRCFM': Curve(mnemonic=NBGRCFM, units=API, start=145.9000, stop=3464.9000, step=0.1000, count=[13187]),\n",
       " 'NPHI': Curve(mnemonic=NPHI, units=v/v, start=145.9000, stop=3464.9000, step=0.1000, count=[3413]),\n",
       " 'PEF': Curve(mnemonic=PEF, units=b/elec, start=145.9000, stop=3464.9000, step=0.1000, count=[3441]),\n",
       " 'RACEHM': Curve(mnemonic=RACEHM, units=ohm.m, start=145.9000, stop=3464.9000, step=0.1000, count=[8538]),\n",
       " 'RACELM': Curve(mnemonic=RACELM, units=ohm.m, start=145.9000, stop=3464.9000, step=0.1000, count=[8538]),\n",
       " 'RD': Curve(mnemonic=RD, units=ohm.m, start=145.9000, stop=3464.9000, step=0.1000, count=[31910]),\n",
       " 'RHOB': Curve(mnemonic=RHOB, units=g/cm3, start=145.9000, stop=3464.9000, step=0.1000, count=[3441]),\n",
       " 'RM': Curve(mnemonic=RM, units=ohm.m, start=145.9000, stop=3464.9000, step=0.1000, count=[31910]),\n",
       " 'ROP': Curve(mnemonic=ROP, units=m/hr, start=145.9000, stop=3464.9000, step=0.1000, count=[32384]),\n",
       " 'RPCEHM': Curve(mnemonic=RPCEHM, units=ohm.m, start=145.9000, stop=3464.9000, step=0.1000, count=[8538]),\n",
       " 'RPCELM': Curve(mnemonic=RPCELM, units=ohm.m, start=145.9000, stop=3464.9000, step=0.1000, count=[8538]),\n",
       " 'RT': Curve(mnemonic=RT, units=ohm.m, start=145.9000, stop=3464.9000, step=0.1000, count=[8538])}"
      ]
     },
     "execution_count": 6,
     "metadata": {},
     "output_type": "execute_result"
    }
   ],
   "source": [
    "log_input.data"
   ]
  },
  {
   "cell_type": "code",
   "execution_count": 7,
   "id": "8ecc7692-2a0d-4319-900f-a79ab7412d4f",
   "metadata": {
    "pycharm": {
     "name": "#%%\n"
    }
   },
   "outputs": [
    {
     "data": {
      "text/plain": [
       "{'BVW': Curve(mnemonic=BVW, units=V/V, start=3204.0000, stop=3464.9000, step=0.1000, count=[2105]),\n",
       " 'CARB_FLAG': Curve(mnemonic=CARB_FLAG, units=V/V, start=3204.0000, stop=3464.9000, step=0.1000, count=[2520]),\n",
       " 'COAL_FLAG': Curve(mnemonic=COAL_FLAG, units=UNITLESS, start=3204.0000, stop=3464.9000, step=0.1000, count=[2610]),\n",
       " 'KLOGH': Curve(mnemonic=KLOGH, units=mD, start=3204.0000, stop=3464.9000, step=0.1000, count=[2105]),\n",
       " 'PHIF': Curve(mnemonic=PHIF, units=V/V, start=3204.0000, stop=3464.9000, step=0.1000, count=[2105]),\n",
       " 'SAND_FLAG': Curve(mnemonic=SAND_FLAG, units=UNITLESS, start=3204.0000, stop=3464.9000, step=0.1000, count=[2106]),\n",
       " 'SW': Curve(mnemonic=SW, units=V/V, start=3204.0000, stop=3464.9000, step=0.1000, count=[2105]),\n",
       " 'VCARB': Curve(mnemonic=VCARB, units=V/V, start=3204.0000, stop=3464.9000, step=0.1000, count=[2105]),\n",
       " 'VSH': Curve(mnemonic=VSH, units=V/V, start=3204.0000, stop=3464.9000, step=0.1000, count=[2533])}"
      ]
     },
     "execution_count": 7,
     "metadata": {},
     "output_type": "execute_result"
    }
   ],
   "source": [
    "log_output.data"
   ]
  },
  {
   "cell_type": "markdown",
   "id": "4499f835-028d-4834-958f-c97936445de1",
   "metadata": {
    "pycharm": {
     "name": "#%% md\n"
    }
   },
   "source": [
    "## 3.2) Create Dataframe\n",
    "\n",
    "It is always easier to convert data to tabular format, as this way you can explore it better and create visualizations directly using **Pandas or using visualization libraries such as Matplotlib, Seaborn, Plotly, etc.** **Note:** To convert a .LAS file to dataframe (semi-structured data to structured data), use the **welly** library's *df* method.\n",
    "\n",
    "**Note:** To convert a .LAS file to dataframe (semi-structured data to structured data), the *df* method of the **welly** library is used and once the dataframe is obtained, the methods and attributes available for a dataframe of the **Pandas** library can be used."
   ]
  },
  {
   "cell_type": "code",
   "execution_count": 8,
   "id": "f0bae85e-daf7-4b7d-96e7-c60501de5017",
   "metadata": {
    "pycharm": {
     "name": "#%%\n"
    }
   },
   "outputs": [
    {
     "data": {
      "text/html": [
       "<div>\n",
       "<style scoped>\n",
       "    .dataframe tbody tr th:only-of-type {\n",
       "        vertical-align: middle;\n",
       "    }\n",
       "\n",
       "    .dataframe tbody tr th {\n",
       "        vertical-align: top;\n",
       "    }\n",
       "\n",
       "    .dataframe thead th {\n",
       "        text-align: right;\n",
       "    }\n",
       "</style>\n",
       "<table border=\"1\" class=\"dataframe\">\n",
       "  <thead>\n",
       "    <tr style=\"text-align: right;\">\n",
       "      <th></th>\n",
       "      <th>ABDCQF01</th>\n",
       "      <th>ABDCQF02</th>\n",
       "      <th>ABDCQF03</th>\n",
       "      <th>ABDCQF04</th>\n",
       "      <th>BS</th>\n",
       "      <th>CALI</th>\n",
       "      <th>DRHO</th>\n",
       "      <th>DT</th>\n",
       "      <th>DTS</th>\n",
       "      <th>GR</th>\n",
       "      <th>...</th>\n",
       "      <th>PEF</th>\n",
       "      <th>RACEHM</th>\n",
       "      <th>RACELM</th>\n",
       "      <th>RD</th>\n",
       "      <th>RHOB</th>\n",
       "      <th>RM</th>\n",
       "      <th>ROP</th>\n",
       "      <th>RPCEHM</th>\n",
       "      <th>RPCELM</th>\n",
       "      <th>RT</th>\n",
       "    </tr>\n",
       "    <tr>\n",
       "      <th>DEPTH</th>\n",
       "      <th></th>\n",
       "      <th></th>\n",
       "      <th></th>\n",
       "      <th></th>\n",
       "      <th></th>\n",
       "      <th></th>\n",
       "      <th></th>\n",
       "      <th></th>\n",
       "      <th></th>\n",
       "      <th></th>\n",
       "      <th></th>\n",
       "      <th></th>\n",
       "      <th></th>\n",
       "      <th></th>\n",
       "      <th></th>\n",
       "      <th></th>\n",
       "      <th></th>\n",
       "      <th></th>\n",
       "      <th></th>\n",
       "      <th></th>\n",
       "      <th></th>\n",
       "    </tr>\n",
       "  </thead>\n",
       "  <tbody>\n",
       "    <tr>\n",
       "      <th>145.9</th>\n",
       "      <td>NaN</td>\n",
       "      <td>NaN</td>\n",
       "      <td>NaN</td>\n",
       "      <td>NaN</td>\n",
       "      <td>36.0</td>\n",
       "      <td>NaN</td>\n",
       "      <td>NaN</td>\n",
       "      <td>NaN</td>\n",
       "      <td>NaN</td>\n",
       "      <td>NaN</td>\n",
       "      <td>...</td>\n",
       "      <td>NaN</td>\n",
       "      <td>NaN</td>\n",
       "      <td>NaN</td>\n",
       "      <td>NaN</td>\n",
       "      <td>NaN</td>\n",
       "      <td>NaN</td>\n",
       "      <td>NaN</td>\n",
       "      <td>NaN</td>\n",
       "      <td>NaN</td>\n",
       "      <td>NaN</td>\n",
       "    </tr>\n",
       "    <tr>\n",
       "      <th>146.0</th>\n",
       "      <td>NaN</td>\n",
       "      <td>NaN</td>\n",
       "      <td>NaN</td>\n",
       "      <td>NaN</td>\n",
       "      <td>36.0</td>\n",
       "      <td>NaN</td>\n",
       "      <td>NaN</td>\n",
       "      <td>NaN</td>\n",
       "      <td>NaN</td>\n",
       "      <td>NaN</td>\n",
       "      <td>...</td>\n",
       "      <td>NaN</td>\n",
       "      <td>NaN</td>\n",
       "      <td>NaN</td>\n",
       "      <td>NaN</td>\n",
       "      <td>NaN</td>\n",
       "      <td>NaN</td>\n",
       "      <td>NaN</td>\n",
       "      <td>NaN</td>\n",
       "      <td>NaN</td>\n",
       "      <td>NaN</td>\n",
       "    </tr>\n",
       "    <tr>\n",
       "      <th>146.1</th>\n",
       "      <td>NaN</td>\n",
       "      <td>NaN</td>\n",
       "      <td>NaN</td>\n",
       "      <td>NaN</td>\n",
       "      <td>36.0</td>\n",
       "      <td>NaN</td>\n",
       "      <td>NaN</td>\n",
       "      <td>NaN</td>\n",
       "      <td>NaN</td>\n",
       "      <td>NaN</td>\n",
       "      <td>...</td>\n",
       "      <td>NaN</td>\n",
       "      <td>NaN</td>\n",
       "      <td>NaN</td>\n",
       "      <td>NaN</td>\n",
       "      <td>NaN</td>\n",
       "      <td>NaN</td>\n",
       "      <td>NaN</td>\n",
       "      <td>NaN</td>\n",
       "      <td>NaN</td>\n",
       "      <td>NaN</td>\n",
       "    </tr>\n",
       "    <tr>\n",
       "      <th>146.2</th>\n",
       "      <td>NaN</td>\n",
       "      <td>NaN</td>\n",
       "      <td>NaN</td>\n",
       "      <td>NaN</td>\n",
       "      <td>36.0</td>\n",
       "      <td>NaN</td>\n",
       "      <td>NaN</td>\n",
       "      <td>NaN</td>\n",
       "      <td>NaN</td>\n",
       "      <td>NaN</td>\n",
       "      <td>...</td>\n",
       "      <td>NaN</td>\n",
       "      <td>NaN</td>\n",
       "      <td>NaN</td>\n",
       "      <td>NaN</td>\n",
       "      <td>NaN</td>\n",
       "      <td>NaN</td>\n",
       "      <td>NaN</td>\n",
       "      <td>NaN</td>\n",
       "      <td>NaN</td>\n",
       "      <td>NaN</td>\n",
       "    </tr>\n",
       "    <tr>\n",
       "      <th>146.3</th>\n",
       "      <td>NaN</td>\n",
       "      <td>NaN</td>\n",
       "      <td>NaN</td>\n",
       "      <td>NaN</td>\n",
       "      <td>36.0</td>\n",
       "      <td>NaN</td>\n",
       "      <td>NaN</td>\n",
       "      <td>NaN</td>\n",
       "      <td>NaN</td>\n",
       "      <td>NaN</td>\n",
       "      <td>...</td>\n",
       "      <td>NaN</td>\n",
       "      <td>NaN</td>\n",
       "      <td>NaN</td>\n",
       "      <td>NaN</td>\n",
       "      <td>NaN</td>\n",
       "      <td>NaN</td>\n",
       "      <td>NaN</td>\n",
       "      <td>NaN</td>\n",
       "      <td>NaN</td>\n",
       "      <td>NaN</td>\n",
       "    </tr>\n",
       "  </tbody>\n",
       "</table>\n",
       "<p>5 rows × 22 columns</p>\n",
       "</div>"
      ],
      "text/plain": [
       "       ABDCQF01  ABDCQF02  ABDCQF03  ABDCQF04    BS  CALI  DRHO  DT  DTS  GR  \\\n",
       "DEPTH                                                                          \n",
       "145.9       NaN       NaN       NaN       NaN  36.0   NaN   NaN NaN  NaN NaN   \n",
       "146.0       NaN       NaN       NaN       NaN  36.0   NaN   NaN NaN  NaN NaN   \n",
       "146.1       NaN       NaN       NaN       NaN  36.0   NaN   NaN NaN  NaN NaN   \n",
       "146.2       NaN       NaN       NaN       NaN  36.0   NaN   NaN NaN  NaN NaN   \n",
       "146.3       NaN       NaN       NaN       NaN  36.0   NaN   NaN NaN  NaN NaN   \n",
       "\n",
       "       ...  PEF  RACEHM  RACELM  RD  RHOB  RM  ROP  RPCEHM  RPCELM  RT  \n",
       "DEPTH  ...                                                              \n",
       "145.9  ...  NaN     NaN     NaN NaN   NaN NaN  NaN     NaN     NaN NaN  \n",
       "146.0  ...  NaN     NaN     NaN NaN   NaN NaN  NaN     NaN     NaN NaN  \n",
       "146.1  ...  NaN     NaN     NaN NaN   NaN NaN  NaN     NaN     NaN NaN  \n",
       "146.2  ...  NaN     NaN     NaN NaN   NaN NaN  NaN     NaN     NaN NaN  \n",
       "146.3  ...  NaN     NaN     NaN NaN   NaN NaN  NaN     NaN     NaN NaN  \n",
       "\n",
       "[5 rows x 22 columns]"
      ]
     },
     "execution_count": 8,
     "metadata": {},
     "output_type": "execute_result"
    }
   ],
   "source": [
    "# Dataframe of the F-1 B well entry record\n",
    "df_input = log_input.df()\n",
    "df_input.head()"
   ]
  },
  {
   "cell_type": "code",
   "execution_count": 9,
   "id": "58e43c65-7205-40e9-b2d7-e1bd70fe9ec9",
   "metadata": {
    "pycharm": {
     "name": "#%%\n"
    }
   },
   "outputs": [
    {
     "data": {
      "text/html": [
       "<div>\n",
       "<style scoped>\n",
       "    .dataframe tbody tr th:only-of-type {\n",
       "        vertical-align: middle;\n",
       "    }\n",
       "\n",
       "    .dataframe tbody tr th {\n",
       "        vertical-align: top;\n",
       "    }\n",
       "\n",
       "    .dataframe thead th {\n",
       "        text-align: right;\n",
       "    }\n",
       "</style>\n",
       "<table border=\"1\" class=\"dataframe\">\n",
       "  <thead>\n",
       "    <tr style=\"text-align: right;\">\n",
       "      <th></th>\n",
       "      <th>BVW</th>\n",
       "      <th>CARB_FLAG</th>\n",
       "      <th>COAL_FLAG</th>\n",
       "      <th>KLOGH</th>\n",
       "      <th>PHIF</th>\n",
       "      <th>SAND_FLAG</th>\n",
       "      <th>SW</th>\n",
       "      <th>VCARB</th>\n",
       "      <th>VSH</th>\n",
       "    </tr>\n",
       "    <tr>\n",
       "      <th>DEPTH</th>\n",
       "      <th></th>\n",
       "      <th></th>\n",
       "      <th></th>\n",
       "      <th></th>\n",
       "      <th></th>\n",
       "      <th></th>\n",
       "      <th></th>\n",
       "      <th></th>\n",
       "      <th></th>\n",
       "    </tr>\n",
       "  </thead>\n",
       "  <tbody>\n",
       "    <tr>\n",
       "      <th>3204.0</th>\n",
       "      <td>NaN</td>\n",
       "      <td>0.0</td>\n",
       "      <td>0.0</td>\n",
       "      <td>NaN</td>\n",
       "      <td>NaN</td>\n",
       "      <td>NaN</td>\n",
       "      <td>NaN</td>\n",
       "      <td>NaN</td>\n",
       "      <td>1.0000</td>\n",
       "    </tr>\n",
       "    <tr>\n",
       "      <th>3204.1</th>\n",
       "      <td>NaN</td>\n",
       "      <td>0.0</td>\n",
       "      <td>0.0</td>\n",
       "      <td>NaN</td>\n",
       "      <td>NaN</td>\n",
       "      <td>NaN</td>\n",
       "      <td>NaN</td>\n",
       "      <td>NaN</td>\n",
       "      <td>0.9919</td>\n",
       "    </tr>\n",
       "    <tr>\n",
       "      <th>3204.2</th>\n",
       "      <td>NaN</td>\n",
       "      <td>0.0</td>\n",
       "      <td>0.0</td>\n",
       "      <td>NaN</td>\n",
       "      <td>NaN</td>\n",
       "      <td>NaN</td>\n",
       "      <td>NaN</td>\n",
       "      <td>NaN</td>\n",
       "      <td>0.9855</td>\n",
       "    </tr>\n",
       "    <tr>\n",
       "      <th>3204.3</th>\n",
       "      <td>NaN</td>\n",
       "      <td>0.0</td>\n",
       "      <td>0.0</td>\n",
       "      <td>NaN</td>\n",
       "      <td>NaN</td>\n",
       "      <td>NaN</td>\n",
       "      <td>NaN</td>\n",
       "      <td>NaN</td>\n",
       "      <td>0.9930</td>\n",
       "    </tr>\n",
       "    <tr>\n",
       "      <th>3204.4</th>\n",
       "      <td>NaN</td>\n",
       "      <td>0.0</td>\n",
       "      <td>0.0</td>\n",
       "      <td>NaN</td>\n",
       "      <td>NaN</td>\n",
       "      <td>NaN</td>\n",
       "      <td>NaN</td>\n",
       "      <td>NaN</td>\n",
       "      <td>0.9878</td>\n",
       "    </tr>\n",
       "  </tbody>\n",
       "</table>\n",
       "</div>"
      ],
      "text/plain": [
       "        BVW  CARB_FLAG  COAL_FLAG  KLOGH  PHIF  SAND_FLAG  SW  VCARB     VSH\n",
       "DEPTH                                                                       \n",
       "3204.0  NaN        0.0        0.0    NaN   NaN        NaN NaN    NaN  1.0000\n",
       "3204.1  NaN        0.0        0.0    NaN   NaN        NaN NaN    NaN  0.9919\n",
       "3204.2  NaN        0.0        0.0    NaN   NaN        NaN NaN    NaN  0.9855\n",
       "3204.3  NaN        0.0        0.0    NaN   NaN        NaN NaN    NaN  0.9930\n",
       "3204.4  NaN        0.0        0.0    NaN   NaN        NaN NaN    NaN  0.9878"
      ]
     },
     "execution_count": 9,
     "metadata": {},
     "output_type": "execute_result"
    }
   ],
   "source": [
    "# Dataframe of the F-1 B well output log\n",
    "df_output = log_output.df()\n",
    "df_output.head()"
   ]
  },
  {
   "cell_type": "markdown",
   "id": "bee11eab-10f7-4c4a-bb15-e6f1255ab92d",
   "metadata": {
    "pycharm": {
     "name": "#%% md\n"
    }
   },
   "source": [
    "Then, the characteristics of each dataframe are explored, using the *info* method of the **Pandas** library"
   ]
  },
  {
   "cell_type": "code",
   "execution_count": 10,
   "id": "9466c745-5b8a-43a8-a8fd-d82f973b6c04",
   "metadata": {
    "pycharm": {
     "name": "#%%\n"
    }
   },
   "outputs": [
    {
     "name": "stdout",
     "output_type": "stream",
     "text": [
      "<class 'pandas.core.frame.DataFrame'>\n",
      "Float64Index: 33191 entries, 145.9 to 3464.8999999969815\n",
      "Data columns (total 22 columns):\n",
      " #   Column    Non-Null Count  Dtype  \n",
      "---  ------    --------------  -----  \n",
      " 0   ABDCQF01  3225 non-null   float64\n",
      " 1   ABDCQF02  3225 non-null   float64\n",
      " 2   ABDCQF03  3225 non-null   float64\n",
      " 3   ABDCQF04  3225 non-null   float64\n",
      " 4   BS        33191 non-null  float64\n",
      " 5   CALI      3518 non-null   float64\n",
      " 6   DRHO      3525 non-null   float64\n",
      " 7   DT        4261 non-null   float64\n",
      " 8   DTS       3806 non-null   float64\n",
      " 9   GR        32494 non-null  float64\n",
      " 10  NBGRCFM   13186 non-null  float64\n",
      " 11  NPHI      3412 non-null   float64\n",
      " 12  PEF       3440 non-null   float64\n",
      " 13  RACEHM    8536 non-null   float64\n",
      " 14  RACELM    8536 non-null   float64\n",
      " 15  RD        31904 non-null  float64\n",
      " 16  RHOB      3440 non-null   float64\n",
      " 17  RM        31904 non-null  float64\n",
      " 18  ROP       32382 non-null  float64\n",
      " 19  RPCEHM    8536 non-null   float64\n",
      " 20  RPCELM    8536 non-null   float64\n",
      " 21  RT        8536 non-null   float64\n",
      "dtypes: float64(22)\n",
      "memory usage: 5.8 MB\n"
     ]
    }
   ],
   "source": [
    "df_input.info()"
   ]
  },
  {
   "cell_type": "code",
   "execution_count": 11,
   "id": "e61b4f00-4e7d-45f4-bd10-5a15d31be655",
   "metadata": {
    "pycharm": {
     "name": "#%%\n"
    }
   },
   "outputs": [
    {
     "name": "stdout",
     "output_type": "stream",
     "text": [
      "<class 'pandas.core.frame.DataFrame'>\n",
      "Float64Index: 2610 entries, 3204.0 to 3464.8999999997627\n",
      "Data columns (total 9 columns):\n",
      " #   Column     Non-Null Count  Dtype  \n",
      "---  ------     --------------  -----  \n",
      " 0   BVW        2104 non-null   float64\n",
      " 1   CARB_FLAG  2520 non-null   float64\n",
      " 2   COAL_FLAG  2610 non-null   float64\n",
      " 3   KLOGH      2104 non-null   float64\n",
      " 4   PHIF       2104 non-null   float64\n",
      " 5   SAND_FLAG  2105 non-null   float64\n",
      " 6   SW         2104 non-null   float64\n",
      " 7   VCARB      2104 non-null   float64\n",
      " 8   VSH        2533 non-null   float64\n",
      "dtypes: float64(9)\n",
      "memory usage: 203.9 KB\n"
     ]
    }
   ],
   "source": [
    "df_output.info()"
   ]
  },
  {
   "cell_type": "markdown",
   "id": "8f038d11-d234-4603-96ae-5d87d12484ef",
   "metadata": {
    "pycharm": {
     "name": "#%% md\n"
    }
   },
   "source": [
    "## 3.3) Identify Null Data\n",
    "\n",
    "- As part of data exploration, **identifying null data** is an essential task that needs to be performed to determine the quality of the data.\n",
    "\n",
    "- For this workshop, the **missingno** library is used to visually identify null data. However, it is important to mention that this exploration can be performed with different libraries."
   ]
  },
  {
   "cell_type": "code",
   "execution_count": 12,
   "id": "4a5098b4-d335-44ba-93c5-6728aa66e3a3",
   "metadata": {
    "pycharm": {
     "name": "#%%\n"
    }
   },
   "outputs": [
    {
     "data": {
      "text/plain": [
       "ABDCQF01    29966\n",
       "ABDCQF02    29966\n",
       "ABDCQF03    29966\n",
       "ABDCQF04    29966\n",
       "BS              0\n",
       "CALI        29673\n",
       "DRHO        29666\n",
       "DT          28930\n",
       "DTS         29385\n",
       "GR            697\n",
       "NBGRCFM     20005\n",
       "NPHI        29779\n",
       "PEF         29751\n",
       "RACEHM      24655\n",
       "RACELM      24655\n",
       "RD           1287\n",
       "RHOB        29751\n",
       "RM           1287\n",
       "ROP           809\n",
       "RPCEHM      24655\n",
       "RPCELM      24655\n",
       "RT          24655\n",
       "dtype: int64"
      ]
     },
     "execution_count": 12,
     "metadata": {},
     "output_type": "execute_result"
    }
   ],
   "source": [
    "# Null data from the F-1 B well log input record \n",
    "df_input.isna().sum()"
   ]
  },
  {
   "cell_type": "code",
   "execution_count": 13,
   "id": "2ccf9fef-1701-4fe4-aab0-c02dc5d46f36",
   "metadata": {
    "pycharm": {
     "name": "#%%\n"
    }
   },
   "outputs": [
    {
     "data": {
      "text/plain": [
       "BVW          506\n",
       "CARB_FLAG     90\n",
       "COAL_FLAG      0\n",
       "KLOGH        506\n",
       "PHIF         506\n",
       "SAND_FLAG    505\n",
       "SW           506\n",
       "VCARB        506\n",
       "VSH           77\n",
       "dtype: int64"
      ]
     },
     "execution_count": 13,
     "metadata": {},
     "output_type": "execute_result"
    }
   ],
   "source": [
    "# Null data from the F-1 B well log output record\n",
    "df_output.isnull().sum()"
   ]
  },
  {
   "cell_type": "markdown",
   "id": "5fc1709d-fcdd-4dd8-bdd2-5d67255f0f86",
   "metadata": {
    "pycharm": {
     "name": "#%% md\n"
    }
   },
   "source": [
    "# 3) Plot well logs\n",
    "\n",
    "In this section, petrophysical logs are plotted using the **welly and matplotlib** libraries."
   ]
  },
  {
   "cell_type": "markdown",
   "id": "01563d1a-b008-4e80-91db-4b19e60cd6db",
   "metadata": {
    "pycharm": {
     "name": "#%% md\n"
    }
   },
   "source": [
    "## 3.1) Plots with Welly\n",
    "\n",
    "With **welly**, well logs can be plotted directly, using its **plot** method."
   ]
  },
  {
   "cell_type": "code",
   "execution_count": 14,
   "id": "bab95ff9-0459-4351-9de3-7c9e4b2454b3",
   "metadata": {
    "pycharm": {
     "name": "#%%\n"
    }
   },
   "outputs": [
    {
     "data": {
      "image/png": "[encoded data removed]",
      "text/plain": [
       "<Figure size 4400x1200 with 22 Axes>"
      ]
     },
     "execution_count": 14,
     "metadata": {},
     "output_type": "execute_result"
    }
   ],
   "source": [
    "log_input.plot()"
   ]
  },
  {
   "cell_type": "markdown",
   "id": "3bfef6e7-1e70-42cc-be08-ed59450f2065",
   "metadata": {
    "pycharm": {
     "name": "#%% md\n"
    }
   },
   "source": [
    "### 3.1.1) Calculation of the Volume of clay (Vshale) for the input record\n",
    "\n",
    "$$V_{shale}=\\frac{GR_{max} - GR}{GR_{max} - GR_{min}}$$\n",
    "\n",
    "**Where:**\n",
    "- $GR$: Average value taken from the Gamma Ray log (API).\n",
    "- $GR_{min}$: clays line value from the Gamma Ray log (API)\n",
    "- $GR_{max}$: sands line value from the Gamma Ray log (API)"
   ]
  },
  {
   "cell_type": "code",
   "execution_count": 15,
   "id": "54cd569e-9ff3-413e-bea0-005f1cb82406",
   "metadata": {
    "pycharm": {
     "name": "#%%\n"
    }
   },
   "outputs": [
    {
     "data": {
      "text/html": [
       "<div>\n",
       "<style scoped>\n",
       "    .dataframe tbody tr th:only-of-type {\n",
       "        vertical-align: middle;\n",
       "    }\n",
       "\n",
       "    .dataframe tbody tr th {\n",
       "        vertical-align: top;\n",
       "    }\n",
       "\n",
       "    .dataframe thead th {\n",
       "        text-align: right;\n",
       "    }\n",
       "</style>\n",
       "<table border=\"1\" class=\"dataframe\">\n",
       "  <thead>\n",
       "    <tr style=\"text-align: right;\">\n",
       "      <th></th>\n",
       "      <th>ABDCQF01</th>\n",
       "      <th>ABDCQF02</th>\n",
       "      <th>ABDCQF03</th>\n",
       "      <th>ABDCQF04</th>\n",
       "      <th>BS</th>\n",
       "      <th>CALI</th>\n",
       "      <th>DRHO</th>\n",
       "      <th>DT</th>\n",
       "      <th>DTS</th>\n",
       "      <th>GR</th>\n",
       "      <th>...</th>\n",
       "      <th>PEF</th>\n",
       "      <th>RACEHM</th>\n",
       "      <th>RACELM</th>\n",
       "      <th>RD</th>\n",
       "      <th>RHOB</th>\n",
       "      <th>RM</th>\n",
       "      <th>ROP</th>\n",
       "      <th>RPCEHM</th>\n",
       "      <th>RPCELM</th>\n",
       "      <th>RT</th>\n",
       "    </tr>\n",
       "    <tr>\n",
       "      <th>DEPTH</th>\n",
       "      <th></th>\n",
       "      <th></th>\n",
       "      <th></th>\n",
       "      <th></th>\n",
       "      <th></th>\n",
       "      <th></th>\n",
       "      <th></th>\n",
       "      <th></th>\n",
       "      <th></th>\n",
       "      <th></th>\n",
       "      <th></th>\n",
       "      <th></th>\n",
       "      <th></th>\n",
       "      <th></th>\n",
       "      <th></th>\n",
       "      <th></th>\n",
       "      <th></th>\n",
       "      <th></th>\n",
       "      <th></th>\n",
       "      <th></th>\n",
       "      <th></th>\n",
       "    </tr>\n",
       "  </thead>\n",
       "  <tbody>\n",
       "    <tr>\n",
       "      <th>145.900000000</th>\n",
       "      <td>NaN</td>\n",
       "      <td>NaN</td>\n",
       "      <td>NaN</td>\n",
       "      <td>NaN</td>\n",
       "      <td>36.0</td>\n",
       "      <td>NaN</td>\n",
       "      <td>NaN</td>\n",
       "      <td>NaN</td>\n",
       "      <td>NaN</td>\n",
       "      <td>NaN</td>\n",
       "      <td>...</td>\n",
       "      <td>NaN</td>\n",
       "      <td>NaN</td>\n",
       "      <td>NaN</td>\n",
       "      <td>NaN</td>\n",
       "      <td>NaN</td>\n",
       "      <td>NaN</td>\n",
       "      <td>NaN</td>\n",
       "      <td>NaN</td>\n",
       "      <td>NaN</td>\n",
       "      <td>NaN</td>\n",
       "    </tr>\n",
       "    <tr>\n",
       "      <th>146.000000000</th>\n",
       "      <td>NaN</td>\n",
       "      <td>NaN</td>\n",
       "      <td>NaN</td>\n",
       "      <td>NaN</td>\n",
       "      <td>36.0</td>\n",
       "      <td>NaN</td>\n",
       "      <td>NaN</td>\n",
       "      <td>NaN</td>\n",
       "      <td>NaN</td>\n",
       "      <td>NaN</td>\n",
       "      <td>...</td>\n",
       "      <td>NaN</td>\n",
       "      <td>NaN</td>\n",
       "      <td>NaN</td>\n",
       "      <td>NaN</td>\n",
       "      <td>NaN</td>\n",
       "      <td>NaN</td>\n",
       "      <td>NaN</td>\n",
       "      <td>NaN</td>\n",
       "      <td>NaN</td>\n",
       "      <td>NaN</td>\n",
       "    </tr>\n",
       "    <tr>\n",
       "      <th>146.100000000</th>\n",
       "      <td>NaN</td>\n",
       "      <td>NaN</td>\n",
       "      <td>NaN</td>\n",
       "      <td>NaN</td>\n",
       "      <td>36.0</td>\n",
       "      <td>NaN</td>\n",
       "      <td>NaN</td>\n",
       "      <td>NaN</td>\n",
       "      <td>NaN</td>\n",
       "      <td>NaN</td>\n",
       "      <td>...</td>\n",
       "      <td>NaN</td>\n",
       "      <td>NaN</td>\n",
       "      <td>NaN</td>\n",
       "      <td>NaN</td>\n",
       "      <td>NaN</td>\n",
       "      <td>NaN</td>\n",
       "      <td>NaN</td>\n",
       "      <td>NaN</td>\n",
       "      <td>NaN</td>\n",
       "      <td>NaN</td>\n",
       "    </tr>\n",
       "    <tr>\n",
       "      <th>146.200000000</th>\n",
       "      <td>NaN</td>\n",
       "      <td>NaN</td>\n",
       "      <td>NaN</td>\n",
       "      <td>NaN</td>\n",
       "      <td>36.0</td>\n",
       "      <td>NaN</td>\n",
       "      <td>NaN</td>\n",
       "      <td>NaN</td>\n",
       "      <td>NaN</td>\n",
       "      <td>NaN</td>\n",
       "      <td>...</td>\n",
       "      <td>NaN</td>\n",
       "      <td>NaN</td>\n",
       "      <td>NaN</td>\n",
       "      <td>NaN</td>\n",
       "      <td>NaN</td>\n",
       "      <td>NaN</td>\n",
       "      <td>NaN</td>\n",
       "      <td>NaN</td>\n",
       "      <td>NaN</td>\n",
       "      <td>NaN</td>\n",
       "    </tr>\n",
       "    <tr>\n",
       "      <th>146.300000000</th>\n",
       "      <td>NaN</td>\n",
       "      <td>NaN</td>\n",
       "      <td>NaN</td>\n",
       "      <td>NaN</td>\n",
       "      <td>36.0</td>\n",
       "      <td>NaN</td>\n",
       "      <td>NaN</td>\n",
       "      <td>NaN</td>\n",
       "      <td>NaN</td>\n",
       "      <td>NaN</td>\n",
       "      <td>...</td>\n",
       "      <td>NaN</td>\n",
       "      <td>NaN</td>\n",
       "      <td>NaN</td>\n",
       "      <td>NaN</td>\n",
       "      <td>NaN</td>\n",
       "      <td>NaN</td>\n",
       "      <td>NaN</td>\n",
       "      <td>NaN</td>\n",
       "      <td>NaN</td>\n",
       "      <td>NaN</td>\n",
       "    </tr>\n",
       "    <tr>\n",
       "      <th>...</th>\n",
       "      <td>...</td>\n",
       "      <td>...</td>\n",
       "      <td>...</td>\n",
       "      <td>...</td>\n",
       "      <td>...</td>\n",
       "      <td>...</td>\n",
       "      <td>...</td>\n",
       "      <td>...</td>\n",
       "      <td>...</td>\n",
       "      <td>...</td>\n",
       "      <td>...</td>\n",
       "      <td>...</td>\n",
       "      <td>...</td>\n",
       "      <td>...</td>\n",
       "      <td>...</td>\n",
       "      <td>...</td>\n",
       "      <td>...</td>\n",
       "      <td>...</td>\n",
       "      <td>...</td>\n",
       "      <td>...</td>\n",
       "      <td>...</td>\n",
       "    </tr>\n",
       "    <tr>\n",
       "      <th>3464.499999997</th>\n",
       "      <td>NaN</td>\n",
       "      <td>NaN</td>\n",
       "      <td>NaN</td>\n",
       "      <td>NaN</td>\n",
       "      <td>8.5</td>\n",
       "      <td>NaN</td>\n",
       "      <td>NaN</td>\n",
       "      <td>NaN</td>\n",
       "      <td>NaN</td>\n",
       "      <td>NaN</td>\n",
       "      <td>...</td>\n",
       "      <td>NaN</td>\n",
       "      <td>NaN</td>\n",
       "      <td>NaN</td>\n",
       "      <td>NaN</td>\n",
       "      <td>NaN</td>\n",
       "      <td>NaN</td>\n",
       "      <td>29.9836000002</td>\n",
       "      <td>NaN</td>\n",
       "      <td>NaN</td>\n",
       "      <td>NaN</td>\n",
       "    </tr>\n",
       "    <tr>\n",
       "      <th>3464.599999997</th>\n",
       "      <td>NaN</td>\n",
       "      <td>NaN</td>\n",
       "      <td>NaN</td>\n",
       "      <td>NaN</td>\n",
       "      <td>8.5</td>\n",
       "      <td>NaN</td>\n",
       "      <td>NaN</td>\n",
       "      <td>NaN</td>\n",
       "      <td>NaN</td>\n",
       "      <td>NaN</td>\n",
       "      <td>...</td>\n",
       "      <td>NaN</td>\n",
       "      <td>NaN</td>\n",
       "      <td>NaN</td>\n",
       "      <td>NaN</td>\n",
       "      <td>NaN</td>\n",
       "      <td>NaN</td>\n",
       "      <td>29.9767000002</td>\n",
       "      <td>NaN</td>\n",
       "      <td>NaN</td>\n",
       "      <td>NaN</td>\n",
       "    </tr>\n",
       "    <tr>\n",
       "      <th>3464.699999997</th>\n",
       "      <td>NaN</td>\n",
       "      <td>NaN</td>\n",
       "      <td>NaN</td>\n",
       "      <td>NaN</td>\n",
       "      <td>8.5</td>\n",
       "      <td>NaN</td>\n",
       "      <td>NaN</td>\n",
       "      <td>NaN</td>\n",
       "      <td>NaN</td>\n",
       "      <td>NaN</td>\n",
       "      <td>...</td>\n",
       "      <td>NaN</td>\n",
       "      <td>NaN</td>\n",
       "      <td>NaN</td>\n",
       "      <td>NaN</td>\n",
       "      <td>NaN</td>\n",
       "      <td>NaN</td>\n",
       "      <td>29.9699000002</td>\n",
       "      <td>NaN</td>\n",
       "      <td>NaN</td>\n",
       "      <td>NaN</td>\n",
       "    </tr>\n",
       "    <tr>\n",
       "      <th>3464.799999997</th>\n",
       "      <td>NaN</td>\n",
       "      <td>NaN</td>\n",
       "      <td>NaN</td>\n",
       "      <td>NaN</td>\n",
       "      <td>8.5</td>\n",
       "      <td>NaN</td>\n",
       "      <td>NaN</td>\n",
       "      <td>NaN</td>\n",
       "      <td>NaN</td>\n",
       "      <td>NaN</td>\n",
       "      <td>...</td>\n",
       "      <td>NaN</td>\n",
       "      <td>NaN</td>\n",
       "      <td>NaN</td>\n",
       "      <td>NaN</td>\n",
       "      <td>NaN</td>\n",
       "      <td>NaN</td>\n",
       "      <td>29.9902999994</td>\n",
       "      <td>NaN</td>\n",
       "      <td>NaN</td>\n",
       "      <td>NaN</td>\n",
       "    </tr>\n",
       "    <tr>\n",
       "      <th>3464.899999997</th>\n",
       "      <td>NaN</td>\n",
       "      <td>NaN</td>\n",
       "      <td>NaN</td>\n",
       "      <td>NaN</td>\n",
       "      <td>8.5</td>\n",
       "      <td>NaN</td>\n",
       "      <td>NaN</td>\n",
       "      <td>NaN</td>\n",
       "      <td>NaN</td>\n",
       "      <td>NaN</td>\n",
       "      <td>...</td>\n",
       "      <td>NaN</td>\n",
       "      <td>NaN</td>\n",
       "      <td>NaN</td>\n",
       "      <td>NaN</td>\n",
       "      <td>NaN</td>\n",
       "      <td>NaN</td>\n",
       "      <td>NaN</td>\n",
       "      <td>NaN</td>\n",
       "      <td>NaN</td>\n",
       "      <td>NaN</td>\n",
       "    </tr>\n",
       "  </tbody>\n",
       "</table>\n",
       "<p>33191 rows × 22 columns</p>\n",
       "</div>"
      ],
      "text/plain": [
       "                ABDCQF01  ABDCQF02  ABDCQF03  ABDCQF04    BS  CALI  DRHO  DT  \\\n",
       "DEPTH                                                                          \n",
       "145.900000000        NaN       NaN       NaN       NaN  36.0   NaN   NaN NaN   \n",
       "146.000000000        NaN       NaN       NaN       NaN  36.0   NaN   NaN NaN   \n",
       "146.100000000        NaN       NaN       NaN       NaN  36.0   NaN   NaN NaN   \n",
       "146.200000000        NaN       NaN       NaN       NaN  36.0   NaN   NaN NaN   \n",
       "146.300000000        NaN       NaN       NaN       NaN  36.0   NaN   NaN NaN   \n",
       "...                  ...       ...       ...       ...   ...   ...   ...  ..   \n",
       "3464.499999997       NaN       NaN       NaN       NaN   8.5   NaN   NaN NaN   \n",
       "3464.599999997       NaN       NaN       NaN       NaN   8.5   NaN   NaN NaN   \n",
       "3464.699999997       NaN       NaN       NaN       NaN   8.5   NaN   NaN NaN   \n",
       "3464.799999997       NaN       NaN       NaN       NaN   8.5   NaN   NaN NaN   \n",
       "3464.899999997       NaN       NaN       NaN       NaN   8.5   NaN   NaN NaN   \n",
       "\n",
       "                DTS  GR  ...  PEF  RACEHM  RACELM  RD  RHOB  RM  \\\n",
       "DEPTH                    ...                                      \n",
       "145.900000000   NaN NaN  ...  NaN     NaN     NaN NaN   NaN NaN   \n",
       "146.000000000   NaN NaN  ...  NaN     NaN     NaN NaN   NaN NaN   \n",
       "146.100000000   NaN NaN  ...  NaN     NaN     NaN NaN   NaN NaN   \n",
       "146.200000000   NaN NaN  ...  NaN     NaN     NaN NaN   NaN NaN   \n",
       "146.300000000   NaN NaN  ...  NaN     NaN     NaN NaN   NaN NaN   \n",
       "...             ...  ..  ...  ...     ...     ...  ..   ...  ..   \n",
       "3464.499999997  NaN NaN  ...  NaN     NaN     NaN NaN   NaN NaN   \n",
       "3464.599999997  NaN NaN  ...  NaN     NaN     NaN NaN   NaN NaN   \n",
       "3464.699999997  NaN NaN  ...  NaN     NaN     NaN NaN   NaN NaN   \n",
       "3464.799999997  NaN NaN  ...  NaN     NaN     NaN NaN   NaN NaN   \n",
       "3464.899999997  NaN NaN  ...  NaN     NaN     NaN NaN   NaN NaN   \n",
       "\n",
       "                          ROP  RPCEHM  RPCELM  RT  \n",
       "DEPTH                                              \n",
       "145.900000000             NaN     NaN     NaN NaN  \n",
       "146.000000000             NaN     NaN     NaN NaN  \n",
       "146.100000000             NaN     NaN     NaN NaN  \n",
       "146.200000000             NaN     NaN     NaN NaN  \n",
       "146.300000000             NaN     NaN     NaN NaN  \n",
       "...                       ...     ...     ...  ..  \n",
       "3464.499999997  29.9836000002     NaN     NaN NaN  \n",
       "3464.599999997  29.9767000002     NaN     NaN NaN  \n",
       "3464.699999997  29.9699000002     NaN     NaN NaN  \n",
       "3464.799999997  29.9902999994     NaN     NaN NaN  \n",
       "3464.899999997            NaN     NaN     NaN NaN  \n",
       "\n",
       "[33191 rows x 22 columns]"
      ]
     },
     "execution_count": 15,
     "metadata": {},
     "output_type": "execute_result"
    }
   ],
   "source": [
    "df_input"
   ]
  },
  {
   "cell_type": "code",
   "execution_count": 16,
   "id": "3711950b-7897-4f10-8299-aa9a73e2828c",
   "metadata": {
    "pycharm": {
     "name": "#%%\n"
    }
   },
   "outputs": [
    {
     "data": {
      "text/html": [
       "<div>\n",
       "<style scoped>\n",
       "    .dataframe tbody tr th:only-of-type {\n",
       "        vertical-align: middle;\n",
       "    }\n",
       "\n",
       "    .dataframe tbody tr th {\n",
       "        vertical-align: top;\n",
       "    }\n",
       "\n",
       "    .dataframe thead th {\n",
       "        text-align: right;\n",
       "    }\n",
       "</style>\n",
       "<table border=\"1\" class=\"dataframe\">\n",
       "  <thead>\n",
       "    <tr style=\"text-align: right;\">\n",
       "      <th></th>\n",
       "      <th>ABDCQF01</th>\n",
       "      <th>ABDCQF02</th>\n",
       "      <th>ABDCQF03</th>\n",
       "      <th>ABDCQF04</th>\n",
       "      <th>BS</th>\n",
       "      <th>CALI</th>\n",
       "      <th>DRHO</th>\n",
       "      <th>DT</th>\n",
       "      <th>DTS</th>\n",
       "      <th>GR</th>\n",
       "      <th>...</th>\n",
       "      <th>RACEHM</th>\n",
       "      <th>RACELM</th>\n",
       "      <th>RD</th>\n",
       "      <th>RHOB</th>\n",
       "      <th>RM</th>\n",
       "      <th>ROP</th>\n",
       "      <th>RPCEHM</th>\n",
       "      <th>RPCELM</th>\n",
       "      <th>RT</th>\n",
       "      <th>VSH</th>\n",
       "    </tr>\n",
       "    <tr>\n",
       "      <th>DEPTH</th>\n",
       "      <th></th>\n",
       "      <th></th>\n",
       "      <th></th>\n",
       "      <th></th>\n",
       "      <th></th>\n",
       "      <th></th>\n",
       "      <th></th>\n",
       "      <th></th>\n",
       "      <th></th>\n",
       "      <th></th>\n",
       "      <th></th>\n",
       "      <th></th>\n",
       "      <th></th>\n",
       "      <th></th>\n",
       "      <th></th>\n",
       "      <th></th>\n",
       "      <th></th>\n",
       "      <th></th>\n",
       "      <th></th>\n",
       "      <th></th>\n",
       "      <th></th>\n",
       "    </tr>\n",
       "  </thead>\n",
       "  <tbody>\n",
       "    <tr>\n",
       "      <th>145.9</th>\n",
       "      <td>NaN</td>\n",
       "      <td>NaN</td>\n",
       "      <td>NaN</td>\n",
       "      <td>NaN</td>\n",
       "      <td>36.0</td>\n",
       "      <td>NaN</td>\n",
       "      <td>NaN</td>\n",
       "      <td>NaN</td>\n",
       "      <td>NaN</td>\n",
       "      <td>NaN</td>\n",
       "      <td>...</td>\n",
       "      <td>NaN</td>\n",
       "      <td>NaN</td>\n",
       "      <td>NaN</td>\n",
       "      <td>NaN</td>\n",
       "      <td>NaN</td>\n",
       "      <td>NaN</td>\n",
       "      <td>NaN</td>\n",
       "      <td>NaN</td>\n",
       "      <td>NaN</td>\n",
       "      <td>NaN</td>\n",
       "    </tr>\n",
       "    <tr>\n",
       "      <th>146.0</th>\n",
       "      <td>NaN</td>\n",
       "      <td>NaN</td>\n",
       "      <td>NaN</td>\n",
       "      <td>NaN</td>\n",
       "      <td>36.0</td>\n",
       "      <td>NaN</td>\n",
       "      <td>NaN</td>\n",
       "      <td>NaN</td>\n",
       "      <td>NaN</td>\n",
       "      <td>NaN</td>\n",
       "      <td>...</td>\n",
       "      <td>NaN</td>\n",
       "      <td>NaN</td>\n",
       "      <td>NaN</td>\n",
       "      <td>NaN</td>\n",
       "      <td>NaN</td>\n",
       "      <td>NaN</td>\n",
       "      <td>NaN</td>\n",
       "      <td>NaN</td>\n",
       "      <td>NaN</td>\n",
       "      <td>NaN</td>\n",
       "    </tr>\n",
       "    <tr>\n",
       "      <th>146.1</th>\n",
       "      <td>NaN</td>\n",
       "      <td>NaN</td>\n",
       "      <td>NaN</td>\n",
       "      <td>NaN</td>\n",
       "      <td>36.0</td>\n",
       "      <td>NaN</td>\n",
       "      <td>NaN</td>\n",
       "      <td>NaN</td>\n",
       "      <td>NaN</td>\n",
       "      <td>NaN</td>\n",
       "      <td>...</td>\n",
       "      <td>NaN</td>\n",
       "      <td>NaN</td>\n",
       "      <td>NaN</td>\n",
       "      <td>NaN</td>\n",
       "      <td>NaN</td>\n",
       "      <td>NaN</td>\n",
       "      <td>NaN</td>\n",
       "      <td>NaN</td>\n",
       "      <td>NaN</td>\n",
       "      <td>NaN</td>\n",
       "    </tr>\n",
       "    <tr>\n",
       "      <th>146.2</th>\n",
       "      <td>NaN</td>\n",
       "      <td>NaN</td>\n",
       "      <td>NaN</td>\n",
       "      <td>NaN</td>\n",
       "      <td>36.0</td>\n",
       "      <td>NaN</td>\n",
       "      <td>NaN</td>\n",
       "      <td>NaN</td>\n",
       "      <td>NaN</td>\n",
       "      <td>NaN</td>\n",
       "      <td>...</td>\n",
       "      <td>NaN</td>\n",
       "      <td>NaN</td>\n",
       "      <td>NaN</td>\n",
       "      <td>NaN</td>\n",
       "      <td>NaN</td>\n",
       "      <td>NaN</td>\n",
       "      <td>NaN</td>\n",
       "      <td>NaN</td>\n",
       "      <td>NaN</td>\n",
       "      <td>NaN</td>\n",
       "    </tr>\n",
       "    <tr>\n",
       "      <th>146.3</th>\n",
       "      <td>NaN</td>\n",
       "      <td>NaN</td>\n",
       "      <td>NaN</td>\n",
       "      <td>NaN</td>\n",
       "      <td>36.0</td>\n",
       "      <td>NaN</td>\n",
       "      <td>NaN</td>\n",
       "      <td>NaN</td>\n",
       "      <td>NaN</td>\n",
       "      <td>NaN</td>\n",
       "      <td>...</td>\n",
       "      <td>NaN</td>\n",
       "      <td>NaN</td>\n",
       "      <td>NaN</td>\n",
       "      <td>NaN</td>\n",
       "      <td>NaN</td>\n",
       "      <td>NaN</td>\n",
       "      <td>NaN</td>\n",
       "      <td>NaN</td>\n",
       "      <td>NaN</td>\n",
       "      <td>NaN</td>\n",
       "    </tr>\n",
       "  </tbody>\n",
       "</table>\n",
       "<p>5 rows × 23 columns</p>\n",
       "</div>"
      ],
      "text/plain": [
       "       ABDCQF01  ABDCQF02  ABDCQF03  ABDCQF04    BS  CALI  DRHO  DT  DTS  GR  \\\n",
       "DEPTH                                                                          \n",
       "145.9       NaN       NaN       NaN       NaN  36.0   NaN   NaN NaN  NaN NaN   \n",
       "146.0       NaN       NaN       NaN       NaN  36.0   NaN   NaN NaN  NaN NaN   \n",
       "146.1       NaN       NaN       NaN       NaN  36.0   NaN   NaN NaN  NaN NaN   \n",
       "146.2       NaN       NaN       NaN       NaN  36.0   NaN   NaN NaN  NaN NaN   \n",
       "146.3       NaN       NaN       NaN       NaN  36.0   NaN   NaN NaN  NaN NaN   \n",
       "\n",
       "       ...  RACEHM  RACELM  RD  RHOB  RM  ROP  RPCEHM  RPCELM  RT  VSH  \n",
       "DEPTH  ...                                                              \n",
       "145.9  ...     NaN     NaN NaN   NaN NaN  NaN     NaN     NaN NaN  NaN  \n",
       "146.0  ...     NaN     NaN NaN   NaN NaN  NaN     NaN     NaN NaN  NaN  \n",
       "146.1  ...     NaN     NaN NaN   NaN NaN  NaN     NaN     NaN NaN  NaN  \n",
       "146.2  ...     NaN     NaN NaN   NaN NaN  NaN     NaN     NaN NaN  NaN  \n",
       "146.3  ...     NaN     NaN NaN   NaN NaN  NaN     NaN     NaN NaN  NaN  \n",
       "\n",
       "[5 rows x 23 columns]"
      ]
     },
     "execution_count": 16,
     "metadata": {},
     "output_type": "execute_result"
    }
   ],
   "source": [
    "df_input['VSH'] = (df_input['GR'].max() - df_input['GR']) / (df_input['GR'].max()\\\n",
    " - df_input['GR'].min())\n",
    "df_input.head()"
   ]
  },
  {
   "cell_type": "markdown",
   "id": "a719681f-775c-4e53-b006-757108e72ef1",
   "metadata": {
    "pycharm": {
     "name": "#%% md\n"
    }
   },
   "source": [
    "Then, the calculated V Shale value is added to the .LAS file of the input log, using the *Curve* method of **Welly**."
   ]
  },
  {
   "cell_type": "code",
   "execution_count": 17,
   "id": "d110a0ba-b066-4f61-8181-04b2db815008",
   "metadata": {
    "pycharm": {
     "name": "#%%\n"
    }
   },
   "outputs": [],
   "source": [
    "log_input.data['VSH'] = welly.Curve(df_input['VSH'])"
   ]
  },
  {
   "cell_type": "code",
   "execution_count": 18,
   "id": "9c0c5c56-baa6-4bca-9650-853065a3af7b",
   "metadata": {
    "pycharm": {
     "name": "#%%\n"
    }
   },
   "outputs": [
    {
     "data": {
      "text/html": [
       "<table><tr><th style=\"text-align:center;\" colspan=\"2\">15/9-F-1 B<br><small></small></th></tr><tr><td><strong>crs</strong></td><td>CRS({})</td></tr><tr><td><strong>location</strong></td><td>Maersk Inspirer</td></tr><tr><td><strong>country</strong></td><td></td></tr><tr><td><strong>province</strong></td><td></td></tr><tr><td><strong>county</strong></td><td></td></tr><tr><td><strong>latitude</strong></td><td>058 26' 29.907\" N    DMS</td></tr><tr><td><strong>longitude</strong></td><td>001 53' 14.708\" E    DMS</td></tr><tr><td><strong>api</strong></td><td></td></tr><tr><td><strong>td</strong></td><td>None</td></tr><tr><td><strong>data</strong></td><td>ABDCQF01, ABDCQF02, ABDCQF03, ABDCQF04, BS, CALI, DRHO, DT, DTS, GR, NBGRCFM, NPHI, PEF, RACEHM, RACELM, RD, RHOB, RM, ROP, RPCEHM, RPCELM, RT, VSH</td></tr></table>"
      ],
      "text/plain": [
       "Well(uwi: '', name: '15/9-F-1 B', 23 curves: ['ABDCQF01', 'ABDCQF02', 'ABDCQF03', 'ABDCQF04', 'BS', 'CALI', 'DRHO', 'DT', 'DTS', 'GR', 'NBGRCFM', 'NPHI', 'PEF', 'RACEHM', 'RACELM', 'RD', 'RHOB', 'RM', 'ROP', 'RPCEHM', 'RPCELM', 'RT', 'VSH'])"
      ]
     },
     "execution_count": 18,
     "metadata": {},
     "output_type": "execute_result"
    }
   ],
   "source": [
    "log_input"
   ]
  },
  {
   "cell_type": "markdown",
   "id": "26016b70-f865-4fc2-9fd7-976c932d1253",
   "metadata": {
    "pycharm": {
     "name": "#%% md\n"
    }
   },
   "source": [
    "Now, let us plot the input log again taking into account the **VSH curve** and also reducing the number of curves, to obtain a better visualization."
   ]
  },
  {
   "cell_type": "code",
   "execution_count": 19,
   "id": "b14eac9c-7ddf-443e-879f-342071c6de66",
   "metadata": {
    "pycharm": {
     "name": "#%%\n"
    }
   },
   "outputs": [
    {
     "data": {
      "image/png": "[encoded data removed]",
      "text/plain": [
       "<Figure size 800x1200 with 4 Axes>"
      ]
     },
     "execution_count": 19,
     "metadata": {},
     "output_type": "execute_result"
    }
   ],
   "source": [
    "tracks = ['GR', 'CALI', 'NPHI', 'VSH']\n",
    "log_input.plot(tracks=tracks)"
   ]
  },
  {
   "cell_type": "markdown",
   "id": "9f48da5c-7ae6-43f7-b685-c8c96e0a3d6f",
   "metadata": {
    "pycharm": {
     "name": "#%% md\n"
    }
   },
   "source": [
    "## 3.2) Plot with Welly and Matplotlib\n",
    "\n",
    "Combining **Welly with Matplotlib**, allows you to create more customized plots, highlighting the following features:\n",
    "\n",
    "- Set figure dimensions\n",
    "- Specify curves to be plotted\n",
    "- Change axis names\n",
    "- Change the font and size of axis names\n",
    "- Plot within specific ranges"
   ]
  },
  {
   "cell_type": "code",
   "execution_count": null,
   "id": "5e75330c-4585-44be-a83c-64ae814c7cc6",
   "metadata": {
    "pycharm": {
     "name": "#%%\n"
    }
   },
   "outputs": [],
   "source": [
    "tracks = [\"KLOGH\", \"PHIF\", \"SAND_FLAG\", \"SW\", 'VSH']\n",
    "log_output.plot(tracks=tracks)"
   ]
  },
  {
   "cell_type": "markdown",
   "id": "455b870a-baf3-4601-8d68-29af3a55c1ac",
   "metadata": {
    "pycharm": {
     "name": "#%% md\n"
    }
   },
   "source": [
    "Now, let's customize the graph a bit more, setting the limits to plot for each curve, considering the *to_basis* method of the **welly** library, as well as its start and stop arguments. \n",
    "\n",
    "On the other hand, **Matplotlib** takes care of the details of the graph."
   ]
  },
  {
   "cell_type": "code",
   "execution_count": null,
   "id": "e8256f65-962f-45c8-8fb3-50438252a922",
   "metadata": {
    "pycharm": {
     "name": "#%%\n"
    }
   },
   "outputs": [],
   "source": [
    "# Curves to plot\n",
    "curves = [\"KLOGH\", \"PHIF\", \"SAND_FLAG\", \"SW\", 'VSH']\n",
    "\n",
    "# State the size of the plot\n",
    "fig, axes = plt.subplots(1, len(curves), figsize=(20,10))\n",
    "# Iterate trough the list curves to plot all these curves\n",
    "for ind, curve in enumerate(curves):\n",
    "    # Plot within defined intervals\n",
    "    segment = log_output.data[curve].to_basis(start=3200, stop=3450)\n",
    "    segment.plot(ax=axes[ind])\n",
    "    # Set the title of each plot\n",
    "    axes[ind].set_title(curve)\n",
    "# Vertical axe\n",
    "axes[0].set_ylabel('Depth (m)', fontsize=14)\n",
    "# Set the tile for all these plots     \n",
    "fig.suptitle('Petrophysical Logs', fontsize=16)\n",
    "# Prevent graphics from being too close together\n",
    "fig.tight_layout()"
   ]
  },
  {
   "cell_type": "markdown",
   "id": "3e3e4699-6bd5-4a8d-8519-818414ecf47d",
   "metadata": {
    "pycharm": {
     "name": "#%% md\n"
    }
   },
   "source": [
    "To avoid repeating the same codes, it is preferable to **build functions** in order to extend the scope of the same code to different records, as is done below:"
   ]
  },
  {
   "cell_type": "code",
   "execution_count": null,
   "id": "151c5a23-003d-47c8-aec8-20069ff1d2c8",
   "metadata": {
    "pycharm": {
     "name": "#%%\n"
    }
   },
   "outputs": [],
   "source": [
    "# Function to plot with Welly and Matplotlib any log curve\n",
    "def curvas_logs(curvas, log, inicio, final):\n",
    "    fig, axes = plt.subplots(1, len(curvas), figsize=(20,10))\n",
    "    for ind, curva in enumerate(curvas):\n",
    "        segmento = log.data[curva].to_basis(start=inicio, stop=final)\n",
    "        if curva == 'SAND_FLAG':\n",
    "            segmento.plot_2d(ax= axes[ind])\n",
    "        else:\n",
    "            segmento.plot(ax=axes[ind])\n",
    "        axes[ind].set_title(curva)\n",
    "    axes[0].set_ylabel('Depth (m)', fontsize=14)    \n",
    "    fig.suptitle('Petrophysical Logs', fontsize=16)\n",
    "    plt.tight_layout()"
   ]
  },
  {
   "cell_type": "code",
   "execution_count": null,
   "id": "234c1dd5-418c-4bdc-80ac-9f2d3f56a51d",
   "metadata": {
    "pycharm": {
     "name": "#%%\n"
    }
   },
   "outputs": [],
   "source": [
    "# Curves to plot\n",
    "Curves = [\"KLOGH\", \"PHIF\", \"SAND_FLAG\", \"SW\", 'VSH']\n",
    "curvas_logs(Curves, log_output, 3225, 3400)"
   ]
  },
  {
   "cell_type": "code",
   "execution_count": null,
   "id": "5d22bb08-6d3d-459c-be82-0a348497ec57",
   "metadata": {
    "pycharm": {
     "name": "#%%\n"
    }
   },
   "outputs": [],
   "source": [
    "df_output"
   ]
  },
  {
   "cell_type": "code",
   "execution_count": null,
   "id": "aedc6ad4-cf31-4181-860e-d58ca411307c",
   "metadata": {
    "pycharm": {
     "name": "#%%\n"
    }
   },
   "outputs": [],
   "source": [
    "Curves = [\"KLOGH\", \"PHIF\", \"SAND_FLAG\", \"SW\", 'VSH', 'BVW']\n",
    "curvas_logs(Curves, log_output, 3190, 3400)"
   ]
  },
  {
   "cell_type": "markdown",
   "id": "7ec00466-d44e-4928-ba78-7fbb3b146b15",
   "metadata": {
    "pycharm": {
     "name": "#%% md\n"
    }
   },
   "source": [
    "### 3.3) Plots with Matplotlib\n",
    "\n",
    "To further customize the graphs, they could be obtained using only **Matplotlib** from a dataframe."
   ]
  },
  {
   "cell_type": "code",
   "execution_count": null,
   "id": "bab2f971-4b65-4d12-bae5-e43e73185da4",
   "metadata": {
    "pycharm": {
     "name": "#%%\n"
    }
   },
   "outputs": [],
   "source": [
    "fig, axs = plt.subplots(nrows=1, ncols=3, figsize=(5, 10), sharey=True, gridspec_kw={\"wspace\": 0})\n",
    "logs_to_plot = [\"KLOGH\", \"PHIF\", \"SW\"]\n",
    "\n",
    "for ax, log in zip(axs, logs_to_plot):\n",
    "    ax.plot(df_output[log], df_output.index)\n",
    "    ax.set_title(log)\n",
    "    ax.xaxis.tick_top()\n",
    "\n",
    "axs[0].set_ylim(None, None)\n",
    "axs[0].invert_yaxis()\n",
    "\n",
    "#plt.subplots_adjust(wspace=0)\n",
    "plt.show()"
   ]
  },
  {
   "cell_type": "markdown",
   "id": "614cb433-20df-4b8c-a76c-c05d2fe64b85",
   "metadata": {
    "pycharm": {
     "name": "#%% md\n"
    }
   },
   "source": [
    "Now, if we want to plot **logs from several wells to observe their correlations**, the following functions can be used:\n",
    "\n",
    "- The **temp_1** function acts as a template for plotting petrophysical logs with **Matplotlib**, and can also be used to plot multi-well logs.\n",
    "- The **multi_well** function, which serves to automate the process of plotting multi-well logs."
   ]
  },
  {
   "cell_type": "code",
   "execution_count": null,
   "id": "cc9d0bb3-a73f-4471-81a7-5bfe64a49a14",
   "metadata": {
    "pycharm": {
     "name": "#%%\n"
    }
   },
   "outputs": [],
   "source": [
    "def temp_1(fig,\n",
    "           df_log,\n",
    "           perm_col,\n",
    "           phi_col,\n",
    "           sw_col,\n",
    "           ref_limits=(None, None)):\n",
    "\n",
    "    axs = fig.subplots(nrows=1,\n",
    "                       ncols=3,\n",
    "                       sharey=True,\n",
    "                       gridspec_kw={\"wspace\": 0})\n",
    "\n",
    "    logs_to_plot = {'green': perm_col, 'blue': phi_col, 'red': sw_col}\n",
    "\n",
    "    for ax, (color, log) in zip(axs, logs_to_plot.items()):\n",
    "        ax.plot(df_log[log], df_log.index, color=color)\n",
    "        ax.set_title(log)\n",
    "        ax.xaxis.tick_top()\n",
    "\n",
    "    axs[0].set_ylim(ref_limits[0], ref_limits[1])\n",
    "    axs[0].invert_yaxis()\n",
    "    axs[0].set_ylabel(\"Depth (m)\")"
   ]
  },
  {
   "cell_type": "markdown",
   "id": "a60a0129-3cbf-4284-a306-637c3d40d31a",
   "metadata": {
    "pycharm": {
     "name": "#%% md\n"
    }
   },
   "source": [
    "First, we import the **petrophysical log** from another well of the Volve field. The log from **well F-1 C** is imported.\n"
   ]
  },
  {
   "cell_type": "code",
   "execution_count": null,
   "id": "90084769-0e36-4db2-818d-c939f6b16cc9",
   "metadata": {
    "pycharm": {
     "name": "#%%\n"
    }
   },
   "outputs": [],
   "source": [
    "path_file_2 = Path(\"Data/VOLVE-PETROPHYSICAL_INTERPRETATION/15_9-F-1 C/WLC_PETRO_COMPUTED_OUTPUT_1.LAS\")\n",
    "df_log_2 = lasio.read(path_file_2).df()\n",
    "df_log_2.head()"
   ]
  },
  {
   "cell_type": "markdown",
   "id": "a1691226-4aba-4341-90de-1365f0251ae7",
   "metadata": {
    "pycharm": {
     "name": "#%% md\n"
    }
   },
   "source": [
    "Then, **using the temp_1** function, the petrophysical logs of **wells F-1 B and F-1 C** are plotted."
   ]
  },
  {
   "cell_type": "code",
   "execution_count": null,
   "id": "975cbfee-4e3e-4393-94f0-f0c7af9eb79d",
   "metadata": {
    "pycharm": {
     "name": "#%%\n"
    }
   },
   "outputs": [],
   "source": [
    "#from IPython.display import display\n",
    "fig_all = plt.figure(figsize=(12, 10))\n",
    "subfigs = fig_all.subfigures(1, 2, wspace=2)\n",
    "\n",
    "temp_1(subfigs[0], df_output, \"KLOGH\", \"PHIF\", \"SW\", ref_limits=(3200, 3400))\n",
    "temp_1(subfigs[1], df_log_2, \"KLOGH\", \"PHIF\", \"SW\", ref_limits=(3850, 3900))\n",
    "\n",
    "plt.show()"
   ]
  },
  {
   "cell_type": "markdown",
   "id": "72103977-5f30-40c7-846a-8267b2937718",
   "metadata": {
    "pycharm": {
     "name": "#%% md\n"
    }
   },
   "source": [
    "On the other hand, if you want to automate the process of **plotting logs from several wells**, you can use the **multi_well** function."
   ]
  },
  {
   "cell_type": "code",
   "execution_count": null,
   "id": "d69097f7-99c4-4a5e-8eb7-9c96391e5c29",
   "metadata": {
    "pycharm": {
     "name": "#%%\n"
    }
   },
   "outputs": [],
   "source": [
    "def multi_well(figsize, data, template):\n",
    "    fig_all = plt.figure(figsize=figsize)\n",
    "    subfigs = fig_all.subfigures(1, len(data), wspace=2)\n",
    "    for idx, (well_name, df) in enumerate(data.items()):\n",
    "        template(subfigs[idx], df, \"KLOGH\", \"PHIF\", \"SW\")\n",
    "        subfigs[idx].suptitle(well_name)"
   ]
  },
  {
   "cell_type": "markdown",
   "id": "b05c2ee1-679b-4b84-bb6b-75fce3508f7b",
   "metadata": {
    "pycharm": {
     "name": "#%% md\n"
    }
   },
   "source": [
    "To test the **multi_Well** function, we import the LAS file from the petrophysical log of another well, specifically that of **well F-12** and then convert it to dataframe, using the *df* method of the **lasio** library."
   ]
  },
  {
   "cell_type": "code",
   "execution_count": null,
   "id": "f9a4807b-4ba7-495f-8b30-2971c8df2741",
   "metadata": {
    "pycharm": {
     "name": "#%%\n"
    }
   },
   "outputs": [],
   "source": [
    "path_file_3 = Path(\"Data/VOLVE-PETROPHYSICAL_INTERPRETATION/15_9-F-12/WLC_PETRO_COMPUTED_OUTPUT_1.LAS\")\n",
    "df_log_3 = lasio.read(path_file_3).df()\n",
    "df_log_3.head()"
   ]
  },
  {
   "cell_type": "markdown",
   "id": "e48f671e-0a8c-4890-9b9d-7962e6fd0856",
   "metadata": {
    "pycharm": {
     "name": "#%% md\n"
    }
   },
   "source": [
    "Finally, a **data dictionary** is created, where each analyzed well is assigned its respective petrophysical log dataframe."
   ]
  },
  {
   "cell_type": "code",
   "execution_count": null,
   "id": "955aad14-4fa6-42da-b78c-8e2d0f6bfd96",
   "metadata": {
    "pycharm": {
     "name": "#%%\n"
    }
   },
   "outputs": [],
   "source": [
    "data_logs = {\"Pozo F-1 B\": df_output,\n",
    "             \"Pozo F-1 C\": df_log_2,\n",
    "             \"Pozo F-12\": df_log_3,\n",
    "             }\n",
    "\n",
    "multi_well((12, 10), data_logs, temp_1)"
   ]
  },
  {
   "cell_type": "markdown",
   "id": "32f6accb-c044-40b1-8666-69e0a5d81b87",
   "metadata": {
    "pycharm": {
     "name": "#%% md\n"
    }
   },
   "source": [
    "# Test\n",
    "\n",
    "Plot the petrophysical logs of the following wells:\n",
    "- well F-1B\n",
    "- well F-1 C\n",
    "- well F-12\n",
    "- well F-15 D\n",
    "\n",
    "**Note:** You will first need to import the LAS file of well **F-15 D** and then transform it to dataframe."
   ]
  },
  {
   "cell_type": "code",
   "execution_count": null,
   "id": "3cb259ce-8fd9-46c6-9a9c-324e53074af8",
   "metadata": {
    "pycharm": {
     "name": "#%%\n"
    }
   },
   "outputs": [],
   "source": [
    "# Write your code here"
   ]
  }
 ],
 "metadata": {
  "kernelspec": {
   "display_name": "Python 3 (ipykernel)",
   "language": "python",
   "name": "python3"
  },
  "language_info": {
   "codemirror_mode": {
    "name": "ipython",
    "version": 3
   },
   "file_extension": ".py",
   "mimetype": "text/x-python",
   "name": "python",
   "nbconvert_exporter": "python",
   "pygments_lexer": "ipython3",
   "version": "3.10.6"
  }
 },
 "nbformat": 4,
 "nbformat_minor": 5
}
